{
 "cells": [
  {
   "cell_type": "code",
   "execution_count": 16,
   "id": "def40e2e",
   "metadata": {},
   "outputs": [],
   "source": [
    "from smartapi import SmartConnect, SmartWebSocket\n",
    "import time\n",
    "from datetime import datetime\n",
    "import datetime\n",
    "import pyotp"
   ]
  },
  {
   "cell_type": "code",
   "execution_count": 17,
   "id": "cd40b985",
   "metadata": {},
   "outputs": [],
   "source": [
    "apiKey='gmPdFX9J'\n",
    "userName='A1221496'\n",
    "password='0513'  #This is pin not the password of AngelOne\n",
    "totp='CPEXLLRYLGP3YT4553O4OCXB64'"
   ]
  },
  {
   "cell_type": "code",
   "execution_count": 18,
   "id": "9614d832",
   "metadata": {},
   "outputs": [],
   "source": [
    "obj=SmartConnect(api_key=apiKey)\n",
    "token=pyotp.TOTP(totp).now()\n",
    "\n",
    "data = obj.generateSession(userName,password,token)\n",
    "\n",
    "\n",
    "refreshToken= data['data']['refreshToken']\n",
    "\n",
    "#print(\"refresh token: \"+refreshToken)\n",
    "\n",
    "feedToken=obj.getfeedToken()\n",
    "#print(\"feed token: \"+feedToken)\n",
    "\n",
    "#fetch User Profile\n",
    "userProfile= obj.getProfile(refreshToken)\n",
    "#print(userProfile)"
   ]
  },
  {
   "cell_type": "code",
   "execution_count": 19,
   "id": "006a3b74",
   "metadata": {},
   "outputs": [
    {
     "data": {
      "text/plain": [
       "{'status': True, 'message': 'SUCCESS', 'errorcode': '', 'data': None}"
      ]
     },
     "execution_count": 19,
     "metadata": {},
     "output_type": "execute_result"
    }
   ],
   "source": [
    "obj.position()"
   ]
  },
  {
   "cell_type": "code",
   "execution_count": 27,
   "id": "139b1a71",
   "metadata": {},
   "outputs": [],
   "source": [
    "import pandas as pd\n",
    "import requests\n",
    "import numpy as np\n",
    "import math\n",
    "\n",
    "url = 'https://margincalculator.angelbroking.com/OpenAPI_File/files/OpenAPIScripMaster.json'\n",
    "d = requests.get(url).json()\n",
    "token_df = pd.DataFrame.from_dict(d)\n",
    "token_df['expiry'] = pd.to_datetime(token_df['expiry'])\n",
    "token_df = token_df.astype({'strike': float})"
   ]
  },
  {
   "cell_type": "code",
   "execution_count": 28,
   "id": "1e91e73b",
   "metadata": {},
   "outputs": [
    {
     "data": {
      "text/plain": [
       "['token',\n",
       " 'symbol',\n",
       " 'name',\n",
       " 'expiry',\n",
       " 'strike',\n",
       " 'lotsize',\n",
       " 'instrumenttype',\n",
       " 'exch_seg',\n",
       " 'tick_size']"
      ]
     },
     "execution_count": 28,
     "metadata": {},
     "output_type": "execute_result"
    }
   ],
   "source": [
    "list(token_df)"
   ]
  },
  {
   "cell_type": "code",
   "execution_count": 29,
   "id": "be2b34d9",
   "metadata": {},
   "outputs": [
    {
     "data": {
      "text/html": [
       "<div>\n",
       "<style scoped>\n",
       "    .dataframe tbody tr th:only-of-type {\n",
       "        vertical-align: middle;\n",
       "    }\n",
       "\n",
       "    .dataframe tbody tr th {\n",
       "        vertical-align: top;\n",
       "    }\n",
       "\n",
       "    .dataframe thead th {\n",
       "        text-align: right;\n",
       "    }\n",
       "</style>\n",
       "<table border=\"1\" class=\"dataframe\">\n",
       "  <thead>\n",
       "    <tr style=\"text-align: right;\">\n",
       "      <th></th>\n",
       "      <th>token</th>\n",
       "      <th>symbol</th>\n",
       "      <th>name</th>\n",
       "      <th>expiry</th>\n",
       "      <th>strike</th>\n",
       "      <th>lotsize</th>\n",
       "      <th>instrumenttype</th>\n",
       "      <th>exch_seg</th>\n",
       "      <th>tick_size</th>\n",
       "    </tr>\n",
       "  </thead>\n",
       "  <tbody>\n",
       "    <tr>\n",
       "      <th>4659</th>\n",
       "      <td>26009</td>\n",
       "      <td>BANKNIFTY</td>\n",
       "      <td>BANKNIFTY</td>\n",
       "      <td>NaT</td>\n",
       "      <td>-1.0</td>\n",
       "      <td>-1</td>\n",
       "      <td></td>\n",
       "      <td>NSE</td>\n",
       "      <td>-1.000000</td>\n",
       "    </tr>\n",
       "  </tbody>\n",
       "</table>\n",
       "</div>"
      ],
      "text/plain": [
       "      token     symbol       name expiry  strike lotsize instrumenttype  \\\n",
       "4659  26009  BANKNIFTY  BANKNIFTY    NaT    -1.0      -1                  \n",
       "\n",
       "     exch_seg  tick_size  \n",
       "4659      NSE  -1.000000  "
      ]
     },
     "execution_count": 29,
     "metadata": {},
     "output_type": "execute_result"
    }
   ],
   "source": [
    "token_df[token_df[\"symbol\"] == \"BANKNIFTY\"]"
   ]
  },
  {
   "cell_type": "code",
   "execution_count": 30,
   "id": "041211f1",
   "metadata": {},
   "outputs": [],
   "source": [
    " LTP=obj.ltpData(\"NSE\",\"BANKNIFTY\",\"26009\")\n",
    " "
   ]
  },
  {
   "cell_type": "code",
   "execution_count": 33,
   "id": "c8dd3107",
   "metadata": {},
   "outputs": [
    {
     "data": {
      "text/plain": [
       "41350.4"
      ]
     },
     "execution_count": 33,
     "metadata": {},
     "output_type": "execute_result"
    }
   ],
   "source": [
    "ltp = LTP['data']['ltp']\n",
    "ltp"
   ]
  },
  {
   "cell_type": "code",
   "execution_count": 53,
   "id": "da65411c",
   "metadata": {},
   "outputs": [
    {
     "data": {
      "text/plain": [
       "41300"
      ]
     },
     "execution_count": 53,
     "metadata": {},
     "output_type": "execute_result"
    }
   ],
   "source": [
    "ATMstrike1 = math.floor(ltp/100)*100\n",
    "ATMstrike1\n",
    "\n"
   ]
  },
  {
   "cell_type": "code",
   "execution_count": 54,
   "id": "9812ddfa",
   "metadata": {},
   "outputs": [
    {
     "data": {
      "text/plain": [
       "41400"
      ]
     },
     "execution_count": 54,
     "metadata": {},
     "output_type": "execute_result"
    }
   ],
   "source": [
    "ATMstrike2 = math.ceil(ltp/100)*100\n",
    "ATMstrike2"
   ]
  },
  {
   "cell_type": "code",
   "execution_count": 55,
   "id": "a6425e8d",
   "metadata": {},
   "outputs": [],
   "source": [
    "if ltp-ATMstrike1 <= ATMstrike2-ltp:\n",
    "    ATMstrike = ATMstrike1\n",
    "else:\n",
    "    ATMstrike = ATMstrike2\n",
    "    "
   ]
  },
  {
   "cell_type": "code",
   "execution_count": 56,
   "id": "dfd3f697",
   "metadata": {},
   "outputs": [
    {
     "data": {
      "text/plain": [
       "41300"
      ]
     },
     "execution_count": 56,
     "metadata": {},
     "output_type": "execute_result"
    }
   ],
   "source": [
    "ATMstrike"
   ]
  },
  {
   "cell_type": "code",
   "execution_count": 64,
   "id": "6a9e509b",
   "metadata": {},
   "outputs": [],
   "source": [
    "def place_order(token,symbol,quantity,buy_sell,price):\n",
    "    try:\n",
    "        orderparams = {\n",
    "        \"variety\": \"NORMAL\",\n",
    "        \"tradingsymbol\": symbol,\n",
    "        \"symboltoken\": token,\n",
    "        \"transactiontype\": buy_sell,\n",
    "        \"exchange\": \"NFO\",\n",
    "        \"ordertype\": \"MARKET\",\n",
    "        \"producttype\": \"INTRADAY\",\n",
    "        \"duration\": \"DAY\",\n",
    "        \"price\": price,\n",
    "        \"squareoff\": \"0\",\n",
    "        \"stoploss\": \"0\",\n",
    "        \"quantity\": quantity\n",
    "        }\n",
    "        orderId=obj.placeOrder(orderparams)\n",
    "        print(\"The order id is: {}\".format(orderId))\n",
    "    except Exception as e:\n",
    "        print(\"Order placement failed: {}\".format(e.message))\n"
   ]
  },
  {
   "cell_type": "code",
   "execution_count": 65,
   "id": "03bc301b",
   "metadata": {},
   "outputs": [],
   "source": [
    "def getTokenInfo (df, exch_seg, instrumenttype,symbol,strike_price,pe_ce):\n",
    "    #df = credentials.TOKEN_MAP\n",
    "    strike_price = strike_price*100\n",
    "    if exch_seg == 'NSE':\n",
    "        eq_df = df[(df['exch_seg'] == 'NSE') & (df['symbol'].str.contains('EQ')) ]\n",
    "        return eq_df[eq_df['name'] == symbol]\n",
    "    elif exch_seg == 'NFO' and ((instrumenttype == 'FUTSTK') or (instrumenttype == 'FUTIDX')):\n",
    "        return df[(df['exch_seg'] == 'NFO') & (df['instrumenttype'] == instrumenttype) & (df['name'] == symbol)].sort_values(by=['expiry'])\n",
    "    elif exch_seg == 'NFO' and (instrumenttype == 'OPTSTK' or instrumenttype == 'OPTIDX'):\n",
    "        return df[(df['exch_seg'] == 'NFO') & (df['instrumenttype'] == instrumenttype) & (df['name'] == symbol) & (df['strike'] == strike_price) & (df['symbol'].str.endswith(pe_ce))].sort_values(by=['expiry'])"
   ]
  },
  {
   "cell_type": "code",
   "execution_count": 66,
   "id": "f5940172",
   "metadata": {},
   "outputs": [
    {
     "data": {
      "text/plain": [
       "token                               45974\n",
       "symbol            BANKNIFTY09MAR2341300CE\n",
       "name                            BANKNIFTY\n",
       "expiry                2023-03-09 00:00:00\n",
       "strike                          4130000.0\n",
       "lotsize                                25\n",
       "instrumenttype                     OPTIDX\n",
       "exch_seg                              NFO\n",
       "tick_size                        5.000000\n",
       "Name: 60770, dtype: object"
      ]
     },
     "execution_count": 66,
     "metadata": {},
     "output_type": "execute_result"
    }
   ],
   "source": [
    "ce_strike = getTokenInfo(token_df,'NFO','OPTIDX','BANKNIFTY',ATMstrike,'CE').iloc[0]\n",
    "ce_strike"
   ]
  },
  {
   "cell_type": "code",
   "execution_count": 67,
   "id": "fbbdb9e0",
   "metadata": {},
   "outputs": [
    {
     "data": {
      "text/plain": [
       "token                               45975\n",
       "symbol            BANKNIFTY09MAR2341300PE\n",
       "name                            BANKNIFTY\n",
       "expiry                2023-03-09 00:00:00\n",
       "strike                          4130000.0\n",
       "lotsize                                25\n",
       "instrumenttype                     OPTIDX\n",
       "exch_seg                              NFO\n",
       "tick_size                        5.000000\n",
       "Name: 41799, dtype: object"
      ]
     },
     "execution_count": 67,
     "metadata": {},
     "output_type": "execute_result"
    }
   ],
   "source": [
    "pe_strike = getTokenInfo(token_df,'NFO','OPTIDX','BANKNIFTY',ATMstrike,'PE').iloc[0]\n",
    "pe_strike"
   ]
  },
  {
   "cell_type": "code",
   "execution_count": 68,
   "id": "bf2dc7b2",
   "metadata": {},
   "outputs": [
    {
     "name": "stdout",
     "output_type": "stream",
     "text": [
      "The order id is: 230306000940083\n"
     ]
    }
   ],
   "source": [
    "place_order(ce_strike['token'],ce_strike['symbol'],ce_strike['lotsize'],'SELL',0)"
   ]
  },
  {
   "cell_type": "code",
   "execution_count": 69,
   "id": "c4616b96",
   "metadata": {},
   "outputs": [
    {
     "name": "stdout",
     "output_type": "stream",
     "text": [
      "The order id is: 230306000940086\n"
     ]
    }
   ],
   "source": [
    "place_order(pe_strike['token'],pe_strike['symbol'],pe_strike['lotsize'],'SELL',0)"
   ]
  },
  {
   "cell_type": "code",
   "execution_count": null,
   "id": "dfa5be08",
   "metadata": {},
   "outputs": [],
   "source": []
  }
 ],
 "metadata": {
  "kernelspec": {
   "display_name": "Python 3 (ipykernel)",
   "language": "python",
   "name": "python3"
  },
  "language_info": {
   "codemirror_mode": {
    "name": "ipython",
    "version": 3
   },
   "file_extension": ".py",
   "mimetype": "text/x-python",
   "name": "python",
   "nbconvert_exporter": "python",
   "pygments_lexer": "ipython3",
   "version": "3.9.13"
  }
 },
 "nbformat": 4,
 "nbformat_minor": 5
}
